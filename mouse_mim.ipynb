{
 "cells": [
  {
   "cell_type": "code",
   "execution_count": null,
   "metadata": {},
   "outputs": [],
   "source": [
    "\n",
    "\n",
    "from pynput.mouse import Button, Controller\n",
    "mouse = Controller()\n",
    "import serial\n",
    "arduino = serial.Serial('com11',9600)\n",
    "\n",
    "while(1==1):\n",
    "    \n",
    "    if(arduino.inWaiting()>0):\n",
    "        value = arduino.readline()\n",
    "        value = int(value)\n",
    "        if(value==1):\n",
    "            print(value)\n",
    "            mouse.scroll(0,200)\n",
    "            \n",
    "        if(value==0):\n",
    "            print(value)\n",
    "            mouse.scroll(0,-200)\n",
    "        if(value==4):\n",
    "            mouse.click(Button.left,1)\n",
    "        if(value==6):\n",
    "            mouse.click(Button.right,1)\n",
    "        if(value==66):\n",
    "            mouse.click(Button.right,2)\n",
    "        if(value==44):\n",
    "            mouse.click(Button.left,2)\n",
    "        if(value==22):\n",
    "            print(value)\n",
    "            mouse.move(0,-100)\n",
    "        if(value==11):\n",
    "            print(value)\n",
    "            mouse.move(0,100)\n",
    "        if(value==666):\n",
    "            print(value)\n",
    "            mouse.move(100,0)\n",
    "        if(value==444):\n",
    "            print(value)\n",
    "            mouse.move(-100,0)\n",
    "         \n",
    "        \n",
    "\n",
    "    \n",
    "            ##print(value)\n",
    "        ##print(value)\n",
    "        \n"
   ]
  }
 ],
 "metadata": {
  "kernelspec": {
   "display_name": "Python 3",
   "language": "python",
   "name": "python3"
  },
  "language_info": {
   "codemirror_mode": {
    "name": "ipython",
    "version": 3
   },
   "file_extension": ".py",
   "mimetype": "text/x-python",
   "name": "python",
   "nbconvert_exporter": "python",
   "pygments_lexer": "ipython3",
   "version": "3.6.8"
  }
 },
 "nbformat": 4,
 "nbformat_minor": 4
}
